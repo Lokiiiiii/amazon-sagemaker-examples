{
 "cells": [
  {
   "cell_type": "markdown",
   "id": "17583072",
   "metadata": {},
   "source": [
    "# Compile and Train the GPT2 Model using the Transformers Trainer API with the SST2 Dataset for Single-Node Multi-GPU Training"
   ]
  },
  {
   "cell_type": "markdown",
   "id": "0d444097",
   "metadata": {},
   "source": [
    "1. [Introduction](#Introduction)  \n",
    "2. [Development Environment and Permissions](#Development-Environment-and-Permissions)\n",
    "    1. [Installation](#Installation)  \n",
    "    2. [Permissions](#Permissions)\n",
    "3. [SageMaker Training Job](#SageMaker-Training-Job)  \n",
    "    1. [Training with Native and Optimized Tensorflow](#Training-with-Native-&-Optimized-Tensorflow)  \n",
    "    2. [Analysis](#Analysis)  "
   ]
  },
  {
   "cell_type": "markdown",
   "id": "72723472",
   "metadata": {},
   "source": [
    "## SageMaker Training Compiler Overview\n",
    "\n",
    "SageMaker Training Compiler is a capability of SageMaker that makes these hard-to-implement optimizations to reduce training time on GPU instances. The compiler optimizes DL models to accelerate training by more efficiently using SageMaker machine learning (ML) GPU instances. SageMaker Training Compiler is available at no additional charge within SageMaker and can help reduce total billable time as it accelerates training. \n",
    "\n",
    "SageMaker Training Compiler is integrated into the AWS Deep Learning Containers (DLCs). Using the SageMaker Training Compiler enabled AWS DLCs, you can compile and optimize training jobs on GPU instances with minimal changes to your code. Bring your deep learning models to SageMaker and enable SageMaker Training Compiler to accelerate the speed of your training job on SageMaker ML instances for accelerated computing. \n",
    "\n",
    "For more information, see [SageMaker Training Compiler](https://docs.aws.amazon.com/sagemaker/latest/dg/training-compiler.html) in the *Amazon SageMaker Developer Guide*.\n",
    "\n",
    "## Introduction\n",
    "\n",
    "In this demo, you'll use Hugging Face's `transformers` and `datasets` libraries with Amazon SageMaker Training Compiler to train the `gpt-2` model on the `Stanford Sentiment Treebank v2 (SST2)` dataset. To get started, we need to set up the environment with a few prerequisite steps, for permissions, configurations, and so on. \n",
    "\n",
    "**NOTE:** You can run this demo in SageMaker Studio, SageMaker notebook instances, or your local machine with AWS CLI set up. If using SageMaker Studio or SageMaker notebook instances, make sure you choose one of the TensorFlow-based kernels, `Python 3 (TensorFlow x.y Python 3.x CPU Optimized)` or `conda_tensorflow_p36` respectively.\n",
    "\n",
    "**NOTE:** This notebook uses two `ml.p3.8xlarge` instances that have multiple GPUs. If you don't have enough quota, see [Request a service quota increase for SageMaker resources](https://docs.aws.amazon.com/sagemaker/latest/dg/regions-quotas.html#service-limit-increase-request-procedure). "
   ]
  },
  {
   "cell_type": "markdown",
   "id": "d81a9bef",
   "metadata": {},
   "source": [
    "# Development Environment "
   ]
  },
  {
   "cell_type": "markdown",
   "id": "72a3feab",
   "metadata": {},
   "source": [
    "## Installation\n",
    "\n",
    "This example notebook requires the **SageMaker Python SDK v2.70.0** and **transformers v4.11.0**."
   ]
  },
  {
   "cell_type": "code",
   "execution_count": null,
   "id": "df8c1802",
   "metadata": {
    "scrolled": true
   },
   "outputs": [],
   "source": [
    "!pip install sagemaker botocore boto3 awscli --upgrade"
   ]
  },
  {
   "cell_type": "code",
   "execution_count": null,
   "id": "c55284ca",
   "metadata": {},
   "outputs": [],
   "source": [
    "!pip install transformers --upgrade"
   ]
  },
  {
   "cell_type": "code",
   "execution_count": null,
   "id": "d310d374",
   "metadata": {},
   "outputs": [],
   "source": [
    "import botocore\n",
    "import boto3\n",
    "import sagemaker\n",
    "import transformers\n",
    "import pandas as pd\n",
    "\n",
    "print(f\"sagemaker: {sagemaker.__version__}\")\n",
    "print(f\"transformers: {transformers.__version__}\")"
   ]
  },
  {
   "cell_type": "markdown",
   "id": "aab79b9f",
   "metadata": {},
   "source": [
    "### SageMaker environment \n"
   ]
  },
  {
   "cell_type": "code",
   "execution_count": null,
   "id": "0821f2f6",
   "metadata": {},
   "outputs": [],
   "source": [
    "import sagemaker\n",
    "\n",
    "sess = sagemaker.Session()\n",
    "\n",
    "# SageMaker session bucket -> used for uploading data, models and logs\n",
    "# SageMaker will automatically create this bucket if it does not exist\n",
    "sagemaker_session_bucket = None\n",
    "if sagemaker_session_bucket is None and sess is not None:\n",
    "    # set to default bucket if a bucket name is not given\n",
    "    sagemaker_session_bucket = sess.default_bucket()\n",
    "\n",
    "role = sagemaker.get_execution_role()\n",
    "sess = sagemaker.Session(default_bucket=sagemaker_session_bucket)\n",
    "\n",
    "print(f\"sagemaker role arn: {role}\")\n",
    "print(f\"sagemaker bucket: {sess.default_bucket()}\")\n",
    "print(f\"sagemaker session region: {sess.boto_region_name}\")"
   ]
  },
  {
   "cell_type": "code",
   "execution_count": null,
   "id": "202f63dc",
   "metadata": {},
   "outputs": [],
   "source": [
    "from sagemaker.huggingface import HuggingFace, TrainingCompilerConfig"
   ]
  },
  {
   "cell_type": "markdown",
   "id": "5d20b12d",
   "metadata": {},
   "source": [
    "## SageMaker Training Job\n",
    "\n",
    "To create a SageMaker training job, we use a `HuggingFace` estimator. Using the estimator, you can define which fine-tuning script should SageMaker use through `entry_point`, which `instance_type` to use for training, which `hyperparameters` to pass, and so on.\n",
    "\n",
    "When a SageMaker training job starts, SageMaker takes care of starting and managing all the required machine learning instances, picks up the `HuggingFace` Deep Learning Container, uploads your training script, and downloads the data from `sagemaker_session_bucket` into the container at `/opt/ml/input/data`.\n",
    "\n",
    "In the following section, you learn how to set up two versions of the SageMaker `HuggingFace` estimator, a native one without the compiler and an optimized one with the compiler."
   ]
  },
  {
   "cell_type": "markdown",
   "id": "f9f5c0d9",
   "metadata": {},
   "source": [
    "### Training Setup"
   ]
  },
  {
   "cell_type": "code",
   "execution_count": null,
   "id": "e489708c",
   "metadata": {},
   "outputs": [],
   "source": [
    "# Here we configure the training job. Please configure the appropriate options below:\n",
    "\n",
    "EPOCHS = 35\n",
    "\n",
    "\n",
    "# Choose between Causal Language Model and Masked Language Model\n",
    "LANGUAGE_MODELING_LOSS = \"mlm\"  # or \"clm\"\n",
    "\n",
    "MODEL_NAME = \"gpt2\"\n",
    "TOKENIZER_NAME = \"gpt2\"\n",
    "MODEL_CONFIG = \"model_type\"\n",
    "SEQ_LEN = 128\n",
    "\n",
    "# For more information about the options, please look into the training scripts\n",
    "\n",
    "# SageMaker Training Compiler currently only supports training on GPU\n",
    "# Select Instance type for training\n",
    "INSTANCE_TYPE = \"ml.p3.8xlarge\"  # ml.p3.8xlarge is easily available. However, p3.16xlarge provides better performance."
   ]
  },
  {
   "cell_type": "markdown",
   "id": "234cc6bd",
   "metadata": {},
   "source": [
    "### Training with Native TensorFlow"
   ]
  },
  {
   "cell_type": "markdown",
   "id": "6694ecb6",
   "metadata": {},
   "source": [
    "The batch size below is the maximum batch we could fit into the memory of a Nvidia V100 GPU (P3). If you change the model, instance type or sequence length etc., please experiment to find the largest batch size that will fit into memory. \n",
    "\n",
    "This example uses a modified version of HuggingFace training script `run_clm.py`, which you can find inside the `scripts` folder. \n",
    "\n"
   ]
  },
  {
   "cell_type": "code",
   "execution_count": null,
   "id": "c1d2322c",
   "metadata": {},
   "outputs": [],
   "source": [
    "from sagemaker.huggingface import HuggingFace\n",
    "\n",
    "native_batch_size = 48\n",
    "learning_rate_native = float(\"5e-5\")\n",
    "\n",
    "# hyperparameters are passed to the training entrypoint as arguments\n",
    "hyperparameters = {\n",
    "    \"model_name_or_path\": MODEL_NAME,\n",
    "    \"output_dir\": \"/opt/ml/model\",\n",
    "    \"dataset_name\": \"glue\",\n",
    "    \"dataset_config_name\": \"sst2\",\n",
    "    \"do_train\": True,\n",
    "    \"do_eval\": True,\n",
    "    \"per_device_train_batch_size\": native_batch_size,\n",
    "    \"learning_rate\": learning_rate_native,\n",
    "    \"max_seq_length\": SEQ_LEN,\n",
    "    \"num_train_epochs\": EPOCHS,\n",
    "    \"overwrite_output_dir\": True,\n",
    "    \"save_strategy\": \"no\",\n",
    "    \"logging_strategy\": \"epoch\",\n",
    "}\n",
    "\n",
    "# configure the training job\n",
    "native_estimator = HuggingFace(\n",
    "    entry_point=f\"run_{LANGUAGE_MODELING_LOSS}.py\",\n",
    "    source_dir=\"./scripts\",\n",
    "    instance_type=INSTANCE_TYPE,\n",
    "    instance_count=1,\n",
    "    role=role,\n",
    "    volume_size=100,\n",
    "    py_version=\"py37\",\n",
    "    transformers_version=\"4.11.0\",\n",
    "    tensorflow_version=\"2.5.1\",\n",
    "    hyperparameters=hyperparameters,\n",
    "    disable_profiler=True,  # Disabling SageMaker Profiler to avoid overheads during benchmarking\n",
    "    debugger_hook_config=False,  # Disabling SageMaker Debugger to avoid overheads during benchmarking\n",
    ")\n",
    "\n",
    "# start the training job\n",
    "native_estimator.fit(wait=False)\n",
    "native_estimator.latest_training_job.name"
   ]
  },
  {
   "cell_type": "markdown",
   "id": "0ecf8726",
   "metadata": {},
   "source": [
    "### Training with Optimized TensorFlow"
   ]
  },
  {
   "cell_type": "markdown",
   "id": "4fa3ecd6",
   "metadata": {},
   "source": [
    "Compilation through Training Compiler changes the memory footprint of the model. Most commonly, this manifests as a reduction in memory utilization and a consequent increase in the largest batch size that can fit on the GPU. Note that if you want to change the batch size, you must adjust the learning rate appropriately.\n",
    "\n",
    "**Note:** We recommend you to turn the SageMaker Debugger's profiling and debugging tools off when you use compilation to avoid additional overheads.\n"
   ]
  },
  {
   "cell_type": "code",
   "execution_count": null,
   "id": "c2dfa4e9",
   "metadata": {},
   "outputs": [],
   "source": [
    "from sagemaker.huggingface import HuggingFace, TrainingCompilerConfig\n",
    "\n",
    "# SageMaker Training Compiler has increased the memory consumption of the model leading to decrease in batch size.\n",
    "hyperparameters[\"per_device_train_batch_size\"] = 32\n",
    "\n",
    "# The original LR was set for a batch of 48. Here we are scaling learning rate with batch size.\n",
    "hyperparameters[\"learning_rate\"] = (\n",
    "    float(\"5e-5\") / 48 * hyperparameters[\"per_device_train_batch_size\"]\n",
    ")\n",
    "\n",
    "# configure the training job\n",
    "optimized_estimator = HuggingFace(\n",
    "    entry_point=\"run_mlm.py\",\n",
    "    compiler_config=TrainingCompilerConfig(),\n",
    "    source_dir=\"./scripts\",\n",
    "    instance_type=sm_training_compiler_instance_type,\n",
    "    base_job_name=f\"{MODEL_NAME.upper()}XLA-{sm_training_compiler_batch_size}batch-{EPOCHS}epoch-{SEQ_LEN}seq\",\n",
    "    instance_count=1,\n",
    "    role=role,\n",
    "    volume_size=100,\n",
    "    py_version=\"py37\",\n",
    "    transformers_version=\"4.11.0\",\n",
    "    tensorflow_version=\"2.5.1\",\n",
    "    hyperparameters=hyperparameters,\n",
    "    disable_profiler=True,  # Disabling SageMaker Profiler to avoid overheads during benchmarking\n",
    "    debugger_hook_config=False,  # Disabling SageMaker Debugger to avoid overheads during benchmarking\n",
    ")\n",
    "\n",
    "# start the training job\n",
    "optimized_estimator.fit(wait=False)\n",
    "optimized_estimator.latest_training_job.name"
   ]
  },
  {
   "cell_type": "markdown",
   "id": "4d07dbb8",
   "metadata": {},
   "source": [
    "### Wait for training jobs to complete\n"
   ]
  },
  {
   "cell_type": "code",
   "execution_count": null,
   "id": "7b6b1900",
   "metadata": {},
   "outputs": [],
   "source": [
    "native_estimator = HuggingFace.attach(native_estimator.latest_training_job.name)\n",
    "optimized_estimator = HuggingFace.attach(optimized_estimator.latest_training_job.name)"
   ]
  },
  {
   "cell_type": "markdown",
   "id": "1e90bb4a",
   "metadata": {},
   "source": [
    "## Analysis"
   ]
  },
  {
   "cell_type": "markdown",
   "id": "00c317d8",
   "metadata": {},
   "source": [
    "**Note:** If the estimator object is no longer available due to a kernel break or refresh, you need to directly use the training job name and manually attach the training job to a new HuggingFace estimator. For example:\n",
    "\n",
    "```python\n",
    "huggingface_estimator = HuggingFace.attach(\"your_huggingface_training_job_name\")\n",
    "```"
   ]
  },
  {
   "cell_type": "markdown",
   "id": "537e80aa",
   "metadata": {},
   "source": [
    "### Load logs of the training job *with* SageMaker Training Compiler"
   ]
  },
  {
   "cell_type": "code",
   "execution_count": null,
   "id": "518128f2",
   "metadata": {},
   "outputs": [],
   "source": [
    "%%capture optimized\n",
    "\n",
    "# access the logs of the optimized training job\n",
    "optimized_estimator.sagemaker_session.logs_for_job(optimized_estimator.latest_training_job.name)"
   ]
  },
  {
   "cell_type": "markdown",
   "id": "ff17f71b",
   "metadata": {},
   "source": [
    "### Load logs of the training job *without* SageMaker Training Compiler"
   ]
  },
  {
   "cell_type": "code",
   "execution_count": null,
   "id": "89927135",
   "metadata": {},
   "outputs": [],
   "source": [
    "%%capture native\n",
    "\n",
    "# access the logs of the native training job\n",
    "native_estimator.sagemaker_session.logs_for_job(native_estimator.latest_training_job.name)"
   ]
  },
  {
   "cell_type": "markdown",
   "id": "fc1e6567",
   "metadata": {},
   "source": [
    "### Create helper functions for analysis"
   ]
  },
  {
   "cell_type": "code",
   "execution_count": null,
   "id": "e3391e57",
   "metadata": {},
   "outputs": [],
   "source": [
    "from ast import literal_eval\n",
    "from collections import defaultdict\n",
    "from matplotlib import pyplot as plt\n",
    "\n",
    "\n",
    "def _summarize(captured):\n",
    "    final = []\n",
    "    for line in captured.stdout.replace(\"#010\", \"\").replace(\"]\", \"\\n\").replace(\"-\", \"\").split(\"\\n\"):\n",
    "        cleaned = line.strip()\n",
    "        if (\n",
    "            cleaned.startswith(\"ETA\")\n",
    "            or \"*\" * 5 in cleaned\n",
    "            or \"ms/step\" in cleaned\n",
    "            or \"Epoch\" in cleaned\n",
    "            or (\"INFO\" in cleaned and \"=\" in cleaned)\n",
    "        ):\n",
    "            final.append(cleaned)\n",
    "            print(cleaned)\n",
    "    return final\n",
    "\n",
    "\n",
    "def make_sense(string):\n",
    "    try:\n",
    "        return literal_eval(string.split(chr(27))[0])\n",
    "    except:\n",
    "        pass\n",
    "\n",
    "\n",
    "def summarize(summary):\n",
    "    final = {\"train\": {}, \"eval\": {}}\n",
    "    phase = \"train\"\n",
    "    for line in summary:\n",
    "        if \"Epoch\" in line:\n",
    "            epoch = literal_eval(line.split(\" \")[1].split(\"/\")[0])\n",
    "            if epoch not in final[phase]:\n",
    "                final[phase][epoch] = {\"loss\": [], \"ms/step\": -1}\n",
    "        elif line.startswith(\"ETA\"):\n",
    "            try:\n",
    "                extract = line[line.index(\"loss:\") : line.index(\"loss:\") + 49]\n",
    "                values = [i for i in extract.split(\" \") if make_sense(i)]\n",
    "                loss = values[0].split(chr(27))[0]\n",
    "                final[phase][epoch][\"loss\"].append(loss)\n",
    "            except:\n",
    "                pass\n",
    "        elif \"ms/step\" in line:\n",
    "            avg_step_latency = make_sense(\n",
    "                [i for i in line.split(\" \") if \"ms/step\" in i][0].replace(\"ms/step\", \"\")\n",
    "            )\n",
    "            final[phase][epoch][\"ms/step\"] = avg_step_latency\n",
    "        elif \"*\" in line:\n",
    "            return final\n",
    "            phase = \"eval\"\n",
    "            epoch = 0\n",
    "            final[phase][0] = {\"loss\": [], \"ms/step\": -1}\n",
    "    return final"
   ]
  },
  {
   "cell_type": "markdown",
   "id": "58c7a39b",
   "metadata": {},
   "source": [
    "### Plot Optimized vs Native Training Step Latency\n",
    "\n",
    "Visualize average step latency and see potential savings."
   ]
  },
  {
   "cell_type": "code",
   "execution_count": null,
   "id": "dd39dc6c",
   "metadata": {},
   "outputs": [],
   "source": [
    "# Average step latency for the native TensorFlow training\n",
    "n = summarize(_summarize(native))\n",
    "native_latency = [n[\"train\"][x][\"ms/step\"] for x in list(n[\"train\"])]\n",
    "\n",
    "# Average step latency for the optimized TensorFlow training\n",
    "o = summarize(_summarize(optimized))\n",
    "optimized_latency = [o[\"train\"][x][\"ms/step\"] for x in list(o[\"train\"])]\n",
    "\n",
    "train_epochs = [int(x) for x in list(n[\"train\"])]\n",
    "from statistics import mean\n",
    "\n",
    "speedup_per_epoch = []\n",
    "\n",
    "for i in range(len(train_epochs)):\n",
    "    j = native_latency[i]\n",
    "    k = optimized_latency[i]\n",
    "    speedup_per_epoch.append((j - k) / j)\n",
    "\n",
    "# Calculate percentage speedup of optimized TensorFlow over native TensorFlow\n",
    "avg_speedup = \"{}%\".format(round(mean(speedup_per_epoch), 2) * 100)\n",
    "%matplotlib inline\n",
    "\n",
    "plt.title(\"Training Epoch Latency \\n (Lower is better)\")\n",
    "plt.ylabel(\"Epoch Latency (ms)\")\n",
    "plt.plot(native_latency, label=\"Baseline TF\")\n",
    "plt.plot(optimized_latency, label=\"SM Training Compiler-enhanced TF\")\n",
    "plt.xlabel(\"Train epochs \\n  ====> {} Compiler savings <====\".format(avg_speedup))\n",
    "plt.legend()"
   ]
  },
  {
   "cell_type": "markdown",
   "id": "3a20d490",
   "metadata": {},
   "source": [
    "### Convergence of Training Loss\n",
    "\n",
    "SageMaker Training Compiler does not affect the model convergence behavior. Here, we see the decrease in training loss is similar with and without SageMaker Training Compiler\n"
   ]
  },
  {
   "cell_type": "code",
   "execution_count": null,
   "id": "3b0567fd",
   "metadata": {},
   "outputs": [],
   "source": [
    "def get_loss_across_epochs(data_summary):\n",
    "    loss = []\n",
    "    epochs = []\n",
    "    for epoch, value in data_summary[\"train\"].items():\n",
    "        if value[\"loss\"]:\n",
    "            epochs.append(epoch)\n",
    "            loss.append(literal_eval(value[\"loss\"][0]))\n",
    "    epochs, loss = zip(*sorted(zip(epochs, loss)))\n",
    "    return epochs, loss\n",
    "\n",
    "\n",
    "native_epochs, native_losses = get_loss_across_epochs(n)\n",
    "\n",
    "%matplotlib inline\n",
    "\n",
    "plt.title(\"Plot of Training Loss\")\n",
    "plt.ylabel(\"Training Loss\")\n",
    "plt.xlabel(\"Epoch\")\n",
    "plt.plot(native_epochs, native_losses, label=\"Baseline TF\")\n",
    "optimized_epochs, optimized_losses = get_loss_across_epochs(o)\n",
    "plt.plot(optimized_epochs, optimized_losses, label=\"SM Training Compiler Enhanced TF\")\n",
    "plt.legend()"
   ]
  },
  {
   "cell_type": "markdown",
   "id": "7ab2f603",
   "metadata": {},
   "source": [
    "### Total Billable Time\n",
    "\n",
    "Finally, the decrease in total training time results in a decrease in the billable seconds from SageMaker"
   ]
  },
  {
   "cell_type": "code",
   "execution_count": null,
   "id": "ce309039",
   "metadata": {},
   "outputs": [],
   "source": [
    "def BillableTimeInSeconds(name):\n",
    "    describe_training_job = (\n",
    "        optimized_estimator.sagemaker_session.sagemaker_client.describe_training_job\n",
    "    )\n",
    "    details = describe_training_job(TrainingJobName=name)\n",
    "    return details[\"BillableTimeInSeconds\"]"
   ]
  },
  {
   "cell_type": "code",
   "execution_count": null,
   "id": "e18c3916",
   "metadata": {},
   "outputs": [],
   "source": [
    "Billable = {}\n",
    "Billable[\"Native\"] = BillableTimeInSeconds(native_estimator.latest_training_job.name)\n",
    "Billable[\"Optimized\"] = BillableTimeInSeconds(optimized_estimator.latest_training_job.name)\n",
    "pd.DataFrame(Billable, index=[\"BillableSecs\"])"
   ]
  },
  {
   "cell_type": "code",
   "execution_count": null,
   "id": "35483ccc",
   "metadata": {},
   "outputs": [],
   "source": [
    "speedup = (Billable[\"Native\"] - Billable[\"Optimized\"]) * 100 / Billable[\"Native\"]\n",
    "print(f\"SageMaker Training Compiler integrated TensorFlow was {int(speedup)}% faster in summary.\")"
   ]
  },
  {
   "cell_type": "markdown",
   "id": "8aa710ac",
   "metadata": {},
   "source": [
    "## Clean up\n",
    "\n",
    "Stop all training jobs launched if the jobs are still running."
   ]
  },
  {
   "cell_type": "code",
   "execution_count": null,
   "id": "2801d484",
   "metadata": {},
   "outputs": [],
   "source": [
    "import boto3\n",
    "\n",
    "sm = boto3.client(\"sagemaker\")\n",
    "\n",
    "\n",
    "def stop_training_job(name):\n",
    "    status = sm.describe_training_job(TrainingJobName=name)[\"TrainingJobStatus\"]\n",
    "    if status == \"InProgress\":\n",
    "        sm.stop_training_job(TrainingJobName=name)\n",
    "\n",
    "\n",
    "stop_training_job(native_estimator.latest_training_job.name)\n",
    "stop_training_job(optimized_estimator.latest_training_job.name)"
   ]
  },
  {
   "cell_type": "markdown",
   "id": "ad1ddefc",
   "metadata": {},
   "source": [
    "Also, to find instructions on cleaning up resources, see [Clean Up](https://docs.aws.amazon.com/sagemaker/latest/dg/ex1-cleanup.html) in the *Amazon SageMaker Developer Guide*."
   ]
  }
 ],
 "metadata": {
  "kernelspec": {
   "display_name": "Python 3 (ipykernel)",
   "language": "python",
   "name": "python3"
  },
  "language_info": {
   "codemirror_mode": {
    "name": "ipython",
    "version": 3
   },
   "file_extension": ".py",
   "mimetype": "text/x-python",
   "name": "python",
   "nbconvert_exporter": "python",
   "pygments_lexer": "ipython3",
   "version": "3.9.9"
  }
 },
 "nbformat": 4,
 "nbformat_minor": 5
}

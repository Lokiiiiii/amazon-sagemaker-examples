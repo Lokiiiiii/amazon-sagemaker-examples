{
 "cells": [
  {
   "cell_type": "markdown",
   "id": "48d008c6",
   "metadata": {},
   "source": [
    "# Compile and Tune a Vision Transformer Model using HyperParameter Tuner on a Single Node "
   ]
  },
  {
   "cell_type": "markdown",
   "id": "e3a3be53",
   "metadata": {},
   "source": [
    "1. [SageMaker Training Compiler Overview](#SageMaker-Training-Compiler-Overview)\n",
    "    1. [Introduction](#Introduction)\n",
    "2. [Working with the Caltech-256 dataset](#Working-with-the-Caltech-256-dataset)\n",
    "    1. [Installation](#Installation)\n",
    "    2. [SageMaker environment](#SageMaker-environment)\n",
    "3. [How effective is SageMaker Training Compiler ?](#How-effective-is-SageMaker-Training-Compiler-?)\n",
    "    1. [SageMaker Training Job](#SageMaker-Training-Job)\n",
    "    2. [Training Setup](#Training-Setup)\n",
    "    3. [Experimenting with Native TensorFlow](#Experimenting-with-Native-TensorFlow)\n",
    "    4. [Experimenting with Optimized TensorFlow](#Experimenting-with-Optimized-TensorFlow)\n",
    "    5. [Wait for tuning jobs to complete](#Wait-for-tuning-jobs-to-complete)\n",
    "    6. [Fastest Training Job](#Fastest-Training-Job)\n",
    "4. [Further tuning with SageMaker Training Compiler](#Further-tuning-with-SageMaker-Training-Compiler)\n",
    "    1. [Wait for tuning jobs to complete](#Wait-for-tuning-jobs-to-complete)\n",
    "    2. [Fastest Convergence](#Fastest-Convergence)\n",
    "5. [Conclusion](#Conclusion)\n",
    "6. [Clean up](#Clean-up)\n"
   ]
  },
  {
   "cell_type": "markdown",
   "id": "420ad24e",
   "metadata": {},
   "source": [
    "## SageMaker Training Compiler Overview\n",
    "\n",
    "SageMaker Training Compiler is a capability of SageMaker that makes hard-to-implement optimizations to reduce training time on GPU instances. The compiler optimizes DL models to accelerate training by more efficiently using SageMaker machine learning (ML) GPU instances. SageMaker Training Compiler is available at no additional charge within SageMaker and can help reduce total billable time as it accelerates training. \n",
    "\n",
    "SageMaker Training Compiler is integrated into the AWS Deep Learning Containers (DLCs). Using the SageMaker Training Compiler enabled AWS DLCs, you can compile and optimize training jobs on GPU instances with minimal changes to your code. Bring your deep learning models to SageMaker and enable SageMaker Training Compiler to accelerate the speed of your training job on SageMaker ML instances for accelerated computing. \n",
    "\n",
    "For more information, see [SageMaker Training Compiler](https://docs.aws.amazon.com/sagemaker/latest/dg/training-compiler.html) in the *Amazon SageMaker Developer Guide*.\n",
    "\n",
    "### Introduction\n",
    "\n",
    "In this demo, you'll use SageMaker Training Compiler and SageMaker Hyperparameter Tuner to speed up training the `Vision Transformer` model on the `Caltech-256` dataset. To get started, we need to set up the environment with a few prerequisite steps, for permissions, configurations, and so on. \n",
    "\n",
    "**NOTE:** You can run this demo in SageMaker Studio, SageMaker notebook instances, or your local machine with AWS CLI set up. If using SageMaker Studio or SageMaker notebook instances, make sure you choose one of the TensorFlow-based kernels, `Python 3 (TensorFlow x.y Python 3.x CPU Optimized)` or `conda_tensorflow_p39` respectively.\n",
    "\n",
    "**NOTE:** This notebook uses 20 `ml.p3.2xlarge` instances, each with a single GPU. However, it can easily be extended to multiple GPUs on a single node. If you don't have enough quota, see [Request a service quota increase for SageMaker resources](https://docs.aws.amazon.com/sagemaker/latest/dg/regions-quotas.html#service-limit-increase-request-procedure). "
   ]
  },
  {
   "cell_type": "markdown",
   "id": "e86b8d5b",
   "metadata": {},
   "source": [
    "## Development Environment \n"
   ]
  },
  {
   "cell_type": "markdown",
   "id": "8d6666d6",
   "metadata": {},
   "source": [
    "### Installation\n",
    "\n",
    "This example notebook requires **SageMaker Python SDK v2.95.0 or later**\n"
   ]
  },
  {
   "cell_type": "code",
   "execution_count": 1,
   "id": "8f1a4aca",
   "metadata": {},
   "outputs": [
    {
     "name": "stdout",
     "output_type": "stream",
     "text": [
      "Looking in indexes: https://pypi.org/simple, https://pip.repos.neuron.amazonaws.com\n",
      "Requirement already satisfied: pip in /home/ec2-user/anaconda3/envs/tensorflow2_p38/lib/python3.8/site-packages (22.1.2)\n",
      "Looking in indexes: https://pypi.org/simple, https://pip.repos.neuron.amazonaws.com\n",
      "Requirement already satisfied: sagemaker>=2.95.0 in /home/ec2-user/anaconda3/envs/tensorflow2_p38/lib/python3.8/site-packages (2.96.0)\n",
      "Requirement already satisfied: botocore in /home/ec2-user/anaconda3/envs/tensorflow2_p38/lib/python3.8/site-packages (1.27.15)\n",
      "Requirement already satisfied: boto3 in /home/ec2-user/anaconda3/envs/tensorflow2_p38/lib/python3.8/site-packages (1.24.15)\n",
      "Requirement already satisfied: awscli in /home/ec2-user/anaconda3/envs/tensorflow2_p38/lib/python3.8/site-packages (1.25.15)\n",
      "Requirement already satisfied: protobuf3-to-dict<1.0,>=0.1.5 in /home/ec2-user/anaconda3/envs/tensorflow2_p38/lib/python3.8/site-packages (from sagemaker>=2.95.0) (0.1.5)\n",
      "Requirement already satisfied: numpy<2.0,>=1.9.0 in /home/ec2-user/anaconda3/envs/tensorflow2_p38/lib/python3.8/site-packages (from sagemaker>=2.95.0) (1.20.3)\n",
      "Requirement already satisfied: importlib-metadata<5.0,>=1.4.0 in /home/ec2-user/anaconda3/envs/tensorflow2_p38/lib/python3.8/site-packages (from sagemaker>=2.95.0) (1.7.0)\n",
      "Requirement already satisfied: pandas in /home/ec2-user/anaconda3/envs/tensorflow2_p38/lib/python3.8/site-packages (from sagemaker>=2.95.0) (1.3.4)\n",
      "Requirement already satisfied: google-pasta in /home/ec2-user/anaconda3/envs/tensorflow2_p38/lib/python3.8/site-packages (from sagemaker>=2.95.0) (0.2.0)\n",
      "Requirement already satisfied: packaging>=20.0 in /home/ec2-user/anaconda3/envs/tensorflow2_p38/lib/python3.8/site-packages (from sagemaker>=2.95.0) (21.0)\n",
      "Requirement already satisfied: smdebug-rulesconfig==1.0.1 in /home/ec2-user/anaconda3/envs/tensorflow2_p38/lib/python3.8/site-packages (from sagemaker>=2.95.0) (1.0.1)\n",
      "Requirement already satisfied: protobuf<4.0,>=3.1 in /home/ec2-user/anaconda3/envs/tensorflow2_p38/lib/python3.8/site-packages (from sagemaker>=2.95.0) (3.19.1)\n",
      "Requirement already satisfied: pathos in /home/ec2-user/anaconda3/envs/tensorflow2_p38/lib/python3.8/site-packages (from sagemaker>=2.95.0) (0.2.8)\n",
      "Requirement already satisfied: attrs==20.3.0 in /home/ec2-user/anaconda3/envs/tensorflow2_p38/lib/python3.8/site-packages (from sagemaker>=2.95.0) (20.3.0)\n",
      "Requirement already satisfied: jmespath<2.0.0,>=0.7.1 in /home/ec2-user/anaconda3/envs/tensorflow2_p38/lib/python3.8/site-packages (from botocore) (0.10.0)\n",
      "Requirement already satisfied: urllib3<1.27,>=1.25.4 in /home/ec2-user/anaconda3/envs/tensorflow2_p38/lib/python3.8/site-packages (from botocore) (1.26.8)\n",
      "Requirement already satisfied: python-dateutil<3.0.0,>=2.1 in /home/ec2-user/anaconda3/envs/tensorflow2_p38/lib/python3.8/site-packages (from botocore) (2.8.2)\n",
      "Requirement already satisfied: s3transfer<0.7.0,>=0.6.0 in /home/ec2-user/anaconda3/envs/tensorflow2_p38/lib/python3.8/site-packages (from boto3) (0.6.0)\n",
      "Requirement already satisfied: docutils<0.17,>=0.10 in /home/ec2-user/anaconda3/envs/tensorflow2_p38/lib/python3.8/site-packages (from awscli) (0.15.2)\n",
      "Requirement already satisfied: rsa<4.8,>=3.1.2 in /home/ec2-user/anaconda3/envs/tensorflow2_p38/lib/python3.8/site-packages (from awscli) (4.7.2)\n",
      "Requirement already satisfied: PyYAML<5.5,>=3.10 in /home/ec2-user/anaconda3/envs/tensorflow2_p38/lib/python3.8/site-packages (from awscli) (5.4.1)\n",
      "Requirement already satisfied: colorama<0.4.5,>=0.2.5 in /home/ec2-user/anaconda3/envs/tensorflow2_p38/lib/python3.8/site-packages (from awscli) (0.4.3)\n",
      "Requirement already satisfied: zipp>=0.5 in /home/ec2-user/anaconda3/envs/tensorflow2_p38/lib/python3.8/site-packages (from importlib-metadata<5.0,>=1.4.0->sagemaker>=2.95.0) (3.6.0)\n",
      "Requirement already satisfied: pyparsing>=2.0.2 in /home/ec2-user/anaconda3/envs/tensorflow2_p38/lib/python3.8/site-packages (from packaging>=20.0->sagemaker>=2.95.0) (3.0.6)\n",
      "Requirement already satisfied: six in /home/ec2-user/anaconda3/envs/tensorflow2_p38/lib/python3.8/site-packages (from protobuf3-to-dict<1.0,>=0.1.5->sagemaker>=2.95.0) (1.16.0)\n",
      "Requirement already satisfied: pyasn1>=0.1.3 in /home/ec2-user/anaconda3/envs/tensorflow2_p38/lib/python3.8/site-packages (from rsa<4.8,>=3.1.2->awscli) (0.4.8)\n",
      "Requirement already satisfied: pytz>=2017.3 in /home/ec2-user/anaconda3/envs/tensorflow2_p38/lib/python3.8/site-packages (from pandas->sagemaker>=2.95.0) (2021.3)\n",
      "Requirement already satisfied: dill>=0.3.4 in /home/ec2-user/anaconda3/envs/tensorflow2_p38/lib/python3.8/site-packages (from pathos->sagemaker>=2.95.0) (0.3.4)\n",
      "Requirement already satisfied: multiprocess>=0.70.12 in /home/ec2-user/anaconda3/envs/tensorflow2_p38/lib/python3.8/site-packages (from pathos->sagemaker>=2.95.0) (0.70.12.2)\n",
      "Requirement already satisfied: ppft>=1.6.6.4 in /home/ec2-user/anaconda3/envs/tensorflow2_p38/lib/python3.8/site-packages (from pathos->sagemaker>=2.95.0) (1.6.6.4)\n",
      "Requirement already satisfied: pox>=0.3.0 in /home/ec2-user/anaconda3/envs/tensorflow2_p38/lib/python3.8/site-packages (from pathos->sagemaker>=2.95.0) (0.3.0)\n"
     ]
    }
   ],
   "source": [
    "!pip install pip --upgrade\n",
    "!pip install \"sagemaker>=2.95.0\" botocore boto3 awscli --upgrade"
   ]
  },
  {
   "cell_type": "code",
   "execution_count": 2,
   "id": "1a93e2a4",
   "metadata": {},
   "outputs": [
    {
     "name": "stdout",
     "output_type": "stream",
     "text": [
      "botocore: 1.27.15\n",
      "boto3: 1.24.15\n",
      "sagemaker: 2.96.0\n"
     ]
    }
   ],
   "source": [
    "import botocore\n",
    "import boto3\n",
    "import sagemaker\n",
    "\n",
    "print(f\"botocore: {botocore.__version__}\")\n",
    "print(f\"boto3: {boto3.__version__}\")\n",
    "print(f\"sagemaker: {sagemaker.__version__}\")"
   ]
  },
  {
   "cell_type": "markdown",
   "id": "2b30e484",
   "metadata": {},
   "source": [
    "### SageMaker environment "
   ]
  },
  {
   "cell_type": "code",
   "execution_count": 3,
   "id": "946fe532",
   "metadata": {},
   "outputs": [
    {
     "name": "stdout",
     "output_type": "stream",
     "text": [
      "sagemaker role arn: arn:aws:iam::875423407011:role/SageMakerRole\n",
      "sagemaker bucket: sagemaker-us-west-2-875423407011\n",
      "sagemaker session region: us-west-2\n"
     ]
    }
   ],
   "source": [
    "import sagemaker\n",
    "\n",
    "sess = sagemaker.Session()\n",
    "\n",
    "# SageMaker session bucket -> used for uploading data, models and logs\n",
    "# SageMaker will automatically create this bucket if it does not exist\n",
    "sagemaker_session_bucket = None\n",
    "if sagemaker_session_bucket is None and sess is not None:\n",
    "    # set to default bucket if a bucket name is not given\n",
    "    sagemaker_session_bucket = sess.default_bucket()\n",
    "\n",
    "role = sagemaker.get_execution_role()\n",
    "sess = sagemaker.Session(default_bucket=sagemaker_session_bucket)\n",
    "\n",
    "print(f\"sagemaker role arn: {role}\")\n",
    "print(f\"sagemaker bucket: {sagemaker_session_bucket}\")\n",
    "print(f\"sagemaker session region: {sess.boto_region_name}\")"
   ]
  },
  {
   "cell_type": "markdown",
   "id": "6774ae6f",
   "metadata": {},
   "source": [
    "## Working with the Caltech-256 dataset\n",
    "\n",
    "We have hosted the [Caltech-256](https://authors.library.caltech.edu/7694/) dataset in S3 in us-west-2. We will transfer this dataset to your account and region for use with SageMaker Training.\n",
    "\n",
    "The dataset consists of JPEG images organized into directories with each directory representing an object cateogory."
   ]
  },
  {
   "cell_type": "code",
   "execution_count": 4,
   "id": "24aea98e",
   "metadata": {},
   "outputs": [
    {
     "data": {
      "text/plain": [
       "0"
      ]
     },
     "execution_count": 4,
     "metadata": {},
     "output_type": "execute_result"
    }
   ],
   "source": [
    "import os\n",
    "\n",
    "source = \"s3://sagemaker-sample-files/datasets/image/caltech-256/256_ObjectCategories\"\n",
    "destn = f\"s3://{sagemaker_session_bucket}/caltech-256\"\n",
    "local = \"caltech-256\"\n",
    "\n",
    "os.system(f\"aws s3 sync {source} {local}\")\n",
    "os.system(f\"aws s3 sync {local} {destn}\")"
   ]
  },
  {
   "cell_type": "markdown",
   "id": "0b4decc2",
   "metadata": {},
   "source": [
    "## How effective is SageMaker Training Compiler ?\n",
    "\n",
    "The effectiveness of SageMaker Training Compiler depends on the model architecture, model size, input shape, and the training loop. Please refer to our [Best Practices](https://docs.aws.amazon.com/sagemaker/latest/dg/training-compiler-tips-pitfalls.html) documentation to understand how to get the most out of your training job using SageMaker Training Compiler. In this section, we will compare and contrast a training job with and without SageMaker Training Compiler.\n",
    "\n",
    "\n",
    "### SageMaker Training Job\n",
    "\n",
    "To create a SageMaker training job, we use a `TensorFlow` estimator. Using the estimator, you can define which training script should SageMaker use through `entry_point`, which `instance_type` to use for training, which `hyperparameters` to pass, and so on.\n",
    "\n",
    "When a SageMaker training job starts, SageMaker takes care of starting and managing all the required machine learning instances, picks up the `TensorFlow` Deep Learning Container, uploads your training script, and downloads the data from `sagemaker_session_bucket` into the container at `/opt/ml/input/data`.\n",
    "\n",
    "In the following section, you learn how to set up two versions of the SageMaker `TensorFlow` estimator, a native one without the compiler and an optimized one with the compiler."
   ]
  },
  {
   "cell_type": "markdown",
   "id": "cf4f1bba",
   "metadata": {},
   "source": [
    "### Training Setup\n",
    "\n",
    "In this section, we set our hyperparameters to a naive first guess. Notice the low value for `EPOCHS` - this is because we are just experimenting with our hyperparameters to find the best setting that will lead to the fastest training. The effectiveness of SageMaker Training Compiler is often apparent within the first few steps. In the example below we will inspect the speed of the training job after every epoch."
   ]
  },
  {
   "cell_type": "code",
   "execution_count": 5,
   "id": "80ed60f0",
   "metadata": {},
   "outputs": [],
   "source": [
    "EPOCHS = 3\n",
    "LEARNING_RATE = 1e-3\n",
    "WEIGHT_DECAY = 1e-4"
   ]
  },
  {
   "cell_type": "markdown",
   "id": "973c2c67",
   "metadata": {},
   "source": [
    "### Experimenting with Native TensorFlow\n",
    "\n",
    "We attempt to find the largest `BATCH_SIZE` that can fit into the memory of an `ml.p3.2xlarge` instance. This will consequently give us the fastest training speed."
   ]
  },
  {
   "cell_type": "code",
   "execution_count": 6,
   "id": "4db276b2",
   "metadata": {},
   "outputs": [],
   "source": [
    "from sagemaker.tensorflow import TensorFlow\n",
    "\n",
    "estimator_args = dict(\n",
    "    source_dir=\"scripts\",\n",
    "    entry_point=\"vit.py\",\n",
    "    model_dir=False,\n",
    "    instance_type=\"ml.p3.2xlarge\",\n",
    "    instance_count=1,\n",
    "    framework_version=\"2.9.1\",\n",
    "    py_version=\"py39\",\n",
    "    debugger_hook_config=None,\n",
    "    disable_profiler=True,\n",
    "    max_run=60 * 20,  # 20 minutes\n",
    "    role=role,\n",
    ")\n",
    "\n",
    "# Configure the training job\n",
    "native_estimator = TensorFlow(\n",
    "    hyperparameters={\n",
    "        \"EPOCHS\": EPOCHS,\n",
    "        \"LEARNING_RATE\": LEARNING_RATE,\n",
    "        \"WEIGHT_DECAY\": WEIGHT_DECAY,\n",
    "    },\n",
    "    **estimator_args,\n",
    ")"
   ]
  },
  {
   "cell_type": "markdown",
   "id": "8d0d62c2",
   "metadata": {},
   "source": [
    "### SageMaker Hyperparameter Tuning Job\n",
    "\n",
    "We use the ```sagemaker.tuner.HyperparameterTuner``` object to define a Hyperparameter Tuning Job. It will import the training job configuration specified in the ```estimator```. We additionally specify some ```metric_definitions``` to extract training metrics from the training logs. From these ```metric_definitions``` we select a single metric as the ```objective_metric_name``` and configure the tuning job to ```Minimize``` or ```Maximize``` it. We further provide a constrained search space through the ```hyperparameter_ranges``` argument.\n",
    "\n",
    "We can limit the number of training jobs spawned concurrently in the ```max_parallel_jobs``` argument and limit the total number of training jobs spawned in the ```max_jobs``` argument.\n",
    "\n",
    "For more information regarding SageMaker Hyperparameter Tuner refer to [the documentation]()\n",
    "\n",
    "In the example below, we are trying to find the best batch size between 32 and 80 that will result in the smallest possible epoch latency, by launching 40 training jobs, 10 at a time. The range for batch sizes is our best guess. You can always [reuse and restart a tuning job with an extended range](https://docs.aws.amazon.com/sagemaker/latest/dg/automatic-model-tuning-warm-start.html).\n"
   ]
  },
  {
   "cell_type": "code",
   "execution_count": 7,
   "id": "32ebb26d",
   "metadata": {},
   "outputs": [
    {
     "name": "stderr",
     "output_type": "stream",
     "text": [
      "No finished training job found associated with this estimator. Please make sure this estimator is only used for building workflow config\n"
     ]
    },
    {
     "data": {
      "text/plain": [
       "'native-tf29-vit-220623-1523'"
      ]
     },
     "execution_count": 7,
     "metadata": {},
     "output_type": "execute_result"
    }
   ],
   "source": [
    "from sagemaker.tuner import HyperparameterTuner, IntegerParameter\n",
    "\n",
    "tuner_args = dict(\n",
    "    objective_metric_name=\"training_latency_per_epoch\",\n",
    "    objective_type=\"Minimize\",\n",
    "    metric_definitions=[\n",
    "        {\"Name\": \"training_loss\", \"Regex\": \"loss: ([0-9.]*?) \"},\n",
    "        {\"Name\": \"training_accuracy\", \"Regex\": \"accuracy: ([0-9.]*?) \"},\n",
    "        {\"Name\": \"training_latency_per_epoch\", \"Regex\": \"- ([0-9.]*?)s/epoch\"},\n",
    "        {\"Name\": \"training_avg_latency_per_step\", \"Regex\": \"- ([0-9.]*?)ms/step\"},\n",
    "        {\"Name\": \"training_avg_latency_per_step\", \"Regex\": \"- ([0-9.]*?)s/step\"},\n",
    "    ],\n",
    "    max_jobs=40,\n",
    "    max_parallel_jobs=10,\n",
    "    early_stopping_type=\"Auto\",\n",
    ")\n",
    "\n",
    "\n",
    "# Define a Hyperparameter Tuning Job\n",
    "native_tuner = HyperparameterTuner(\n",
    "    estimator=native_estimator,\n",
    "    hyperparameter_ranges={\n",
    "        \"BATCH_SIZE\": IntegerParameter(32, 80, \"Linear\"),\n",
    "    },\n",
    "    base_tuning_job_name=\"native-tf29-vit\",\n",
    "    **tuner_args\n",
    ")\n",
    "\n",
    "# Start the tuning job with the specified input da\n",
    "native_tuner.fit(inputs=destn, wait=False)\n",
    "\n",
    "# Save the name of the tuning job\n",
    "native_tuner.latest_tuning_job.name"
   ]
  },
  {
   "cell_type": "markdown",
   "id": "2aada06a",
   "metadata": {},
   "source": [
    "**Tip**: You can reduce the cost of tuning by restricting the batch size to be multiple of 8. Refer to Nvidia's article on the [significance of the number 8](https://developer.nvidia.com/blog/optimizing-gpu-performance-tensor-cores/) when training with Automatic Mixed Precision.\n",
    "\n",
    "```python\n",
    "from sagemaker.tuner import CategoricalParameter\n",
    "hyperparameter_ranges={\n",
    "                        'BATCH_SIZE': CategoricalParameter(list(range(32, 80, 8))),\n",
    "                    }\n",
    "```\n",
    "\n",
    "This can restrict the search space to just 6 training jobs as opposed to 40 !"
   ]
  },
  {
   "cell_type": "markdown",
   "id": "0a49b0ac",
   "metadata": {},
   "source": [
    "### Experimenting with Optimized TensorFlow\n",
    "\n",
    "Compilation through SageMaker Training Compiler changes the memory footprint of the model. Most commonly, this manifests as a reduction in memory utilization and a consequent increase in the largest batch size that can fit on the GPU. In the example below we will find the new batch size with SageMaker Training Compiler enabled and the resultant latency per epoch.\n",
    "\n",
    "**Note:** We recommend you to turn the SageMaker Debugger's profiling and debugging tools off when you use compilation to avoid additional overheads."
   ]
  },
  {
   "cell_type": "code",
   "execution_count": 8,
   "id": "90d7a995",
   "metadata": {},
   "outputs": [],
   "source": [
    "from sagemaker.tensorflow import TensorFlow, TrainingCompilerConfig\n",
    "\n",
    "# Configure the training job\n",
    "optimized_estimator = TensorFlow(\n",
    "    hyperparameters={\n",
    "        \"EPOCHS\": EPOCHS,\n",
    "        \"LEARNING_RATE\": LEARNING_RATE,\n",
    "        \"WEIGHT_DECAY\": WEIGHT_DECAY,\n",
    "    },\n",
    "    compiler_config=TrainingCompilerConfig(),\n",
    "    **estimator_args,\n",
    ")"
   ]
  },
  {
   "cell_type": "code",
   "execution_count": 9,
   "id": "c92785c6",
   "metadata": {},
   "outputs": [
    {
     "name": "stderr",
     "output_type": "stream",
     "text": [
      "No finished training job found associated with this estimator. Please make sure this estimator is only used for building workflow config\n"
     ]
    },
    {
     "data": {
      "text/plain": [
       "'optimized-tf29-vit-220623-1523'"
      ]
     },
     "execution_count": 9,
     "metadata": {},
     "output_type": "execute_result"
    }
   ],
   "source": [
    "from sagemaker.tuner import HyperparameterTuner, IntegerParameter\n",
    "\n",
    "# Define the tunung job\n",
    "optimized_tuner = HyperparameterTuner(\n",
    "    estimator=optimized_estimator,\n",
    "    hyperparameter_ranges={\"BATCH_SIZE\": IntegerParameter(20, 60, \"Linear\")},\n",
    "    base_tuning_job_name=\"optimized-tf29-vit\",\n",
    "    **tuner_args,\n",
    ")\n",
    "\n",
    "# Start the tuning job with the specified input data\n",
    "optimized_tuner.fit(inputs=destn, wait=False)\n",
    "\n",
    "# Save the name of the tuning job\n",
    "optimized_tuner.latest_tuning_job.name"
   ]
  },
  {
   "cell_type": "markdown",
   "id": "d382f1dc",
   "metadata": {},
   "source": [
    "\n",
    "\n",
    "\n",
    "### Wait for tuning jobs to complete\n",
    "\n",
    "The tuning jobs described above typically take around 50 mins to complete"
   ]
  },
  {
   "cell_type": "markdown",
   "id": "406462ea",
   "metadata": {},
   "source": [
    "**Note:** If the tuner object is no longer available due to a kernel break or refresh, you need to directly use the training job name and manually attach the tuning job to a new tuner. For example:\n",
    "\n",
    "```python\n",
    "native_tuner = HyperparameterTuner.attach(\"<your_tuning_job_name>\")\n",
    "```"
   ]
  },
  {
   "cell_type": "code",
   "execution_count": 10,
   "id": "9633151d",
   "metadata": {
    "scrolled": false
   },
   "outputs": [
    {
     "name": "stdout",
     "output_type": "stream",
     "text": [
      ".............................................................................................................................................................................................................................................................................................................................................................................................................................................................................................................................................................................................................................................................................................................................................................!\n",
      "!\n"
     ]
    }
   ],
   "source": [
    "native_tuner.wait()\n",
    "optimized_tuner.wait()"
   ]
  },
  {
   "cell_type": "code",
   "execution_count": 21,
   "id": "50b80394",
   "metadata": {
    "scrolled": true
   },
   "outputs": [
    {
     "name": "stdout",
     "output_type": "stream",
     "text": [
      "!\n",
      "!\n"
     ]
    }
   ],
   "source": [
    "from sagemaker.tuner import HyperparameterTuner\n",
    "\n",
    "native_tuner = HyperparameterTuner.attach(native_tuner.latest_tuning_job.name)\n",
    "optimized_tuner = HyperparameterTuner.attach(optimized_tuner.latest_tuning_job.name)\n",
    "\n",
    "native_tuner.wait()\n",
    "optimized_tuner.wait()"
   ]
  },
  {
   "cell_type": "markdown",
   "id": "606bef36",
   "metadata": {},
   "source": [
    "### Fastest Training Job\n",
    "\n",
    "Let us collate and analyze the results from the tuning jobs. The tuner provides the results as a Pandas dataframe.\n",
    "We combine the results from both the tuners, sort them according to the epoch latency and display the top 5 results."
   ]
  },
  {
   "cell_type": "code",
   "execution_count": 22,
   "id": "f1a9e8b4",
   "metadata": {},
   "outputs": [
    {
     "data": {
      "text/html": [
       "<div>\n",
       "<style scoped>\n",
       "    .dataframe tbody tr th:only-of-type {\n",
       "        vertical-align: middle;\n",
       "    }\n",
       "\n",
       "    .dataframe tbody tr th {\n",
       "        vertical-align: top;\n",
       "    }\n",
       "\n",
       "    .dataframe thead th {\n",
       "        text-align: right;\n",
       "    }\n",
       "</style>\n",
       "<table border=\"1\" class=\"dataframe\">\n",
       "  <thead>\n",
       "    <tr style=\"text-align: right;\">\n",
       "      <th></th>\n",
       "      <th>BATCH_SIZE</th>\n",
       "      <th>TrainingJobName</th>\n",
       "      <th>TrainingJobStatus</th>\n",
       "      <th>FinalObjectiveValue</th>\n",
       "      <th>TrainingStartTime</th>\n",
       "      <th>TrainingEndTime</th>\n",
       "      <th>TrainingElapsedTimeSeconds</th>\n",
       "    </tr>\n",
       "  </thead>\n",
       "  <tbody>\n",
       "    <tr>\n",
       "      <th>31</th>\n",
       "      <td>77.0</td>\n",
       "      <td>native-tf29-vit-220616-1656-009-b7ed5852</td>\n",
       "      <td>Completed</td>\n",
       "      <td>113.0</td>\n",
       "      <td>2022-06-16 16:59:06+00:00</td>\n",
       "      <td>2022-06-16 17:12:46+00:00</td>\n",
       "      <td>820.0</td>\n",
       "    </tr>\n",
       "    <tr>\n",
       "      <th>22</th>\n",
       "      <td>75.0</td>\n",
       "      <td>native-tf29-vit-220616-1656-018-f5cd7d6e</td>\n",
       "      <td>Completed</td>\n",
       "      <td>113.0</td>\n",
       "      <td>2022-06-16 17:14:42+00:00</td>\n",
       "      <td>2022-06-16 17:28:08+00:00</td>\n",
       "      <td>806.0</td>\n",
       "    </tr>\n",
       "    <tr>\n",
       "      <th>21</th>\n",
       "      <td>74.0</td>\n",
       "      <td>native-tf29-vit-220616-1656-019-3c4788ad</td>\n",
       "      <td>Completed</td>\n",
       "      <td>114.0</td>\n",
       "      <td>2022-06-16 17:15:09+00:00</td>\n",
       "      <td>2022-06-16 17:28:25+00:00</td>\n",
       "      <td>796.0</td>\n",
       "    </tr>\n",
       "    <tr>\n",
       "      <th>30</th>\n",
       "      <td>56.0</td>\n",
       "      <td>optimized-tf29-vit-220616-1656-010-6aa056a0</td>\n",
       "      <td>Completed</td>\n",
       "      <td>64.0</td>\n",
       "      <td>2022-06-16 16:59:33+00:00</td>\n",
       "      <td>2022-06-16 17:10:37+00:00</td>\n",
       "      <td>664.0</td>\n",
       "    </tr>\n",
       "    <tr>\n",
       "      <th>27</th>\n",
       "      <td>48.0</td>\n",
       "      <td>optimized-tf29-vit-220616-1656-013-f9746c55</td>\n",
       "      <td>Completed</td>\n",
       "      <td>66.0</td>\n",
       "      <td>2022-06-16 17:11:40+00:00</td>\n",
       "      <td>2022-06-16 17:23:38+00:00</td>\n",
       "      <td>718.0</td>\n",
       "    </tr>\n",
       "    <tr>\n",
       "      <th>24</th>\n",
       "      <td>51.0</td>\n",
       "      <td>optimized-tf29-vit-220616-1656-016-2d1066f8</td>\n",
       "      <td>Completed</td>\n",
       "      <td>69.0</td>\n",
       "      <td>2022-06-16 17:11:57+00:00</td>\n",
       "      <td>2022-06-16 17:24:02+00:00</td>\n",
       "      <td>725.0</td>\n",
       "    </tr>\n",
       "  </tbody>\n",
       "</table>\n",
       "</div>"
      ],
      "text/plain": [
       "    BATCH_SIZE                              TrainingJobName TrainingJobStatus  \\\n",
       "31        77.0     native-tf29-vit-220616-1656-009-b7ed5852         Completed   \n",
       "22        75.0     native-tf29-vit-220616-1656-018-f5cd7d6e         Completed   \n",
       "21        74.0     native-tf29-vit-220616-1656-019-3c4788ad         Completed   \n",
       "30        56.0  optimized-tf29-vit-220616-1656-010-6aa056a0         Completed   \n",
       "27        48.0  optimized-tf29-vit-220616-1656-013-f9746c55         Completed   \n",
       "24        51.0  optimized-tf29-vit-220616-1656-016-2d1066f8         Completed   \n",
       "\n",
       "    FinalObjectiveValue         TrainingStartTime           TrainingEndTime  \\\n",
       "31                113.0 2022-06-16 16:59:06+00:00 2022-06-16 17:12:46+00:00   \n",
       "22                113.0 2022-06-16 17:14:42+00:00 2022-06-16 17:28:08+00:00   \n",
       "21                114.0 2022-06-16 17:15:09+00:00 2022-06-16 17:28:25+00:00   \n",
       "30                 64.0 2022-06-16 16:59:33+00:00 2022-06-16 17:10:37+00:00   \n",
       "27                 66.0 2022-06-16 17:11:40+00:00 2022-06-16 17:23:38+00:00   \n",
       "24                 69.0 2022-06-16 17:11:57+00:00 2022-06-16 17:24:02+00:00   \n",
       "\n",
       "    TrainingElapsedTimeSeconds  \n",
       "31                       820.0  \n",
       "22                       806.0  \n",
       "21                       796.0  \n",
       "30                       664.0  \n",
       "27                       718.0  \n",
       "24                       725.0  "
      ]
     },
     "execution_count": 22,
     "metadata": {},
     "output_type": "execute_result"
    }
   ],
   "source": [
    "import pandas as pd\n",
    "\n",
    "pd.set_option(\"display.max_rows\", None, \"display.max_columns\", None)\n",
    "\n",
    "# Collect the results from the tuners\n",
    "native_results = native_tuner.analytics().dataframe()\n",
    "optimized_results = optimized_tuner.analytics().dataframe()\n",
    "\n",
    "# Sort results according to Epoch Latency\n",
    "native_results = native_results.sort_values(\n",
    "    [\"FinalObjectiveValue\", \"BATCH_SIZE\"], ascending=[True, False]\n",
    ")\n",
    "optimized_results = optimized_results.sort_values(\n",
    "    [\"FinalObjectiveValue\", \"BATCH_SIZE\"], ascending=[True, False]\n",
    ")\n",
    "\n",
    "# Combine the top N results for viewing\n",
    "N = 3\n",
    "results = pd.concat([native_results.head(N), optimized_results.head(N)])\n",
    "results"
   ]
  },
  {
   "cell_type": "code",
   "execution_count": 23,
   "id": "4bf10f41",
   "metadata": {},
   "outputs": [
    {
     "data": {
      "text/plain": [
       "'With the SageMaker Training Compiler the epoch latency is 38.9% lower meaning the training job could be upto 38.9% faster!'"
      ]
     },
     "execution_count": 23,
     "metadata": {},
     "output_type": "execute_result"
    }
   ],
   "source": [
    "# Calculating potential percentage Savings from Training Compiler\n",
    "difference = (\n",
    "    native_results.iloc[0][\"FinalObjectiveValue\"] - optimized_results.iloc[3][\"FinalObjectiveValue\"]\n",
    ")\n",
    "percentage = difference * 100 / native_results.iloc[0][\"FinalObjectiveValue\"]\n",
    "\n",
    "f\"With the SageMaker Training Compiler the epoch latency is {percentage:.1f}% lower \" f\"meaning the training job could be upto {percentage:.1f}% faster!\""
   ]
  },
  {
   "cell_type": "markdown",
   "id": "e1561758",
   "metadata": {},
   "source": [
    "## Further tuning with SageMaker Training Compiler\n",
    "\n",
    "Now that we have the fastest batch size and compiler configuration, we need to tune the associated hyperparameters to get the fastest convergence.\n",
    "\n",
    "**Remember** Total_Training_Time ~= Latency_per_epoch * Number_of_epochs\n",
    "\n",
    "First, we tuned to reduce the Latency_per_epoch. Now we will tune to reduce the number of epochs required for convergence. Since, hyperparamaters that directly affect convergence (like learning rate, weight decay, learning schedule, etc.) are dependent on batch size, we decouple the 2 steps as described. \n",
    "\n",
    "We now train for a higher number of epochs since we are testing the speed of convergence. Ideally, you should tune learning rate and weight decay to minimize validation loss, but for the sake of example let's minimize the training loss. "
   ]
  },
  {
   "cell_type": "code",
   "execution_count": 14,
   "id": "1bdd22ad",
   "metadata": {},
   "outputs": [],
   "source": [
    "EPOCHS = 10\n",
    "BATCH_SIZE = 56\n",
    "\n",
    "estimator_args[\"max_run\"] = 60 * 60  # 60 minutes\n",
    "\n",
    "tuner_args[\"objective_metric_name\"] = \"training_loss\""
   ]
  },
  {
   "cell_type": "code",
   "execution_count": 15,
   "id": "64e65bdb",
   "metadata": {},
   "outputs": [],
   "source": [
    "from sagemaker.tensorflow import TensorFlow, TrainingCompilerConfig\n",
    "\n",
    "# Configure the training job\n",
    "convergence_estimator = TensorFlow(\n",
    "    hyperparameters={\n",
    "        \"EPOCHS\": EPOCHS,\n",
    "        \"BATCH_SIZE\": BATCH_SIZE,\n",
    "    },\n",
    "    compiler_config=TrainingCompilerConfig(),\n",
    "    **estimator_args,\n",
    ")"
   ]
  },
  {
   "cell_type": "code",
   "execution_count": 16,
   "id": "6370e536",
   "metadata": {},
   "outputs": [
    {
     "name": "stderr",
     "output_type": "stream",
     "text": [
      "No finished training job found associated with this estimator. Please make sure this estimator is only used for building workflow config\n"
     ]
    },
    {
     "data": {
      "text/plain": [
       "'optimized-tf29-vit-220623-1625'"
      ]
     },
     "execution_count": 16,
     "metadata": {},
     "output_type": "execute_result"
    }
   ],
   "source": [
    "from sagemaker.tuner import HyperparameterTuner, ContinuousParameter\n",
    "\n",
    "# Define the tunung job\n",
    "convergence_tuner = HyperparameterTuner(\n",
    "    estimator=convergence_estimator,\n",
    "    hyperparameter_ranges={\n",
    "        \"LEARNING_RATE\": ContinuousParameter(1e-6, 1e-3, \"Logarithmic\"),\n",
    "        \"WEIGHT_DECAY\": ContinuousParameter(1e-6, 1e-3, \"Logarithmic\"),\n",
    "    },\n",
    "    base_tuning_job_name=\"optimized-tf29-vit\",\n",
    "    **tuner_args,\n",
    ")\n",
    "\n",
    "# Start the tuning job with the specified input data\n",
    "convergence_tuner.fit(inputs=destn, wait=False)\n",
    "\n",
    "# Save the name of the tuning job\n",
    "convergence_tuner.latest_tuning_job.name"
   ]
  },
  {
   "cell_type": "markdown",
   "id": "f2457bd4",
   "metadata": {},
   "source": [
    "### Wait for tuning jobs to complete\n",
    "\n",
    "The tuning jobs described above typically take around 2 hours to complete"
   ]
  },
  {
   "cell_type": "markdown",
   "id": "9d883251",
   "metadata": {},
   "source": [
    "**Note:** If the tuner object is no longer available due to a kernel break or refresh, you need to directly use the training job name and manually attach the tuning job to a new tuner. For example:\n",
    "\n",
    "```python\n",
    "tuner = HyperparameterTuner.attach(\"<your_tuning_job_name>\")\n",
    "```"
   ]
  },
  {
   "cell_type": "code",
   "execution_count": 17,
   "id": "70daa8a7",
   "metadata": {
    "scrolled": false
   },
   "outputs": [
    {
     "name": "stdout",
     "output_type": "stream",
     "text": [
      "................................................................................................................................................................................................................................................................................................................................................................................................................................................................................................................................................................................................................................................................................................................................................................................................................................................................................................................................................................................!\n"
     ]
    }
   ],
   "source": [
    "convergence_tuner.wait()"
   ]
  },
  {
   "cell_type": "code",
   "execution_count": 18,
   "id": "6022a1c6",
   "metadata": {
    "scrolled": true
   },
   "outputs": [
    {
     "name": "stdout",
     "output_type": "stream",
     "text": [
      "!\n"
     ]
    }
   ],
   "source": [
    "from sagemaker.tuner import HyperparameterTuner\n",
    "\n",
    "convergence_tuner = HyperparameterTuner.attach(convergence_tuner.latest_tuning_job.name)\n",
    "\n",
    "convergence_tuner.wait()"
   ]
  },
  {
   "cell_type": "markdown",
   "id": "6df94c59",
   "metadata": {},
   "source": [
    "### Fastest Convergence\n",
    "\n",
    "Let us analyze the results from the tuning jobs. The tuner provides the results as a Pandas dataframe.\n",
    "We sort by training loss and display the top 5 results."
   ]
  },
  {
   "cell_type": "code",
   "execution_count": 19,
   "id": "ef7e9c5c",
   "metadata": {},
   "outputs": [
    {
     "data": {
      "text/html": [
       "<div>\n",
       "<style scoped>\n",
       "    .dataframe tbody tr th:only-of-type {\n",
       "        vertical-align: middle;\n",
       "    }\n",
       "\n",
       "    .dataframe tbody tr th {\n",
       "        vertical-align: top;\n",
       "    }\n",
       "\n",
       "    .dataframe thead th {\n",
       "        text-align: right;\n",
       "    }\n",
       "</style>\n",
       "<table border=\"1\" class=\"dataframe\">\n",
       "  <thead>\n",
       "    <tr style=\"text-align: right;\">\n",
       "      <th></th>\n",
       "      <th>LEARNING_RATE</th>\n",
       "      <th>WEIGHT_DECAY</th>\n",
       "      <th>TrainingJobName</th>\n",
       "      <th>TrainingJobStatus</th>\n",
       "      <th>FinalObjectiveValue</th>\n",
       "      <th>TrainingStartTime</th>\n",
       "      <th>TrainingEndTime</th>\n",
       "      <th>TrainingElapsedTimeSeconds</th>\n",
       "    </tr>\n",
       "  </thead>\n",
       "  <tbody>\n",
       "    <tr>\n",
       "      <th>7</th>\n",
       "      <td>0.000086</td>\n",
       "      <td>0.000016</td>\n",
       "      <td>optimized-tf29-vit-220623-1625-033-150957a2</td>\n",
       "      <td>Completed</td>\n",
       "      <td>3.4129</td>\n",
       "      <td>2022-06-23 17:12:53+00:00</td>\n",
       "      <td>2022-06-23 17:32:05+00:00</td>\n",
       "      <td>1152.0</td>\n",
       "    </tr>\n",
       "    <tr>\n",
       "      <th>2</th>\n",
       "      <td>0.000085</td>\n",
       "      <td>0.000011</td>\n",
       "      <td>optimized-tf29-vit-220623-1625-038-d0fa3d30</td>\n",
       "      <td>Completed</td>\n",
       "      <td>3.4508</td>\n",
       "      <td>2022-06-23 17:22:20+00:00</td>\n",
       "      <td>2022-06-23 17:41:01+00:00</td>\n",
       "      <td>1121.0</td>\n",
       "    </tr>\n",
       "    <tr>\n",
       "      <th>13</th>\n",
       "      <td>0.000072</td>\n",
       "      <td>0.000010</td>\n",
       "      <td>optimized-tf29-vit-220623-1625-027-176f5cbb</td>\n",
       "      <td>Completed</td>\n",
       "      <td>3.4530</td>\n",
       "      <td>2022-06-23 17:00:43+00:00</td>\n",
       "      <td>2022-06-23 17:19:45+00:00</td>\n",
       "      <td>1142.0</td>\n",
       "    </tr>\n",
       "    <tr>\n",
       "      <th>12</th>\n",
       "      <td>0.000066</td>\n",
       "      <td>0.000002</td>\n",
       "      <td>optimized-tf29-vit-220623-1625-028-e873cb35</td>\n",
       "      <td>Completed</td>\n",
       "      <td>3.5116</td>\n",
       "      <td>2022-06-23 17:04:12+00:00</td>\n",
       "      <td>2022-06-23 17:23:03+00:00</td>\n",
       "      <td>1131.0</td>\n",
       "    </tr>\n",
       "    <tr>\n",
       "      <th>15</th>\n",
       "      <td>0.000042</td>\n",
       "      <td>0.000011</td>\n",
       "      <td>optimized-tf29-vit-220623-1625-025-de6dcfef</td>\n",
       "      <td>Completed</td>\n",
       "      <td>3.5155</td>\n",
       "      <td>2022-06-23 17:00:36+00:00</td>\n",
       "      <td>2022-06-23 17:19:37+00:00</td>\n",
       "      <td>1141.0</td>\n",
       "    </tr>\n",
       "  </tbody>\n",
       "</table>\n",
       "</div>"
      ],
      "text/plain": [
       "    LEARNING_RATE  WEIGHT_DECAY                              TrainingJobName  \\\n",
       "7        0.000086      0.000016  optimized-tf29-vit-220623-1625-033-150957a2   \n",
       "2        0.000085      0.000011  optimized-tf29-vit-220623-1625-038-d0fa3d30   \n",
       "13       0.000072      0.000010  optimized-tf29-vit-220623-1625-027-176f5cbb   \n",
       "12       0.000066      0.000002  optimized-tf29-vit-220623-1625-028-e873cb35   \n",
       "15       0.000042      0.000011  optimized-tf29-vit-220623-1625-025-de6dcfef   \n",
       "\n",
       "   TrainingJobStatus  FinalObjectiveValue         TrainingStartTime  \\\n",
       "7          Completed               3.4129 2022-06-23 17:12:53+00:00   \n",
       "2          Completed               3.4508 2022-06-23 17:22:20+00:00   \n",
       "13         Completed               3.4530 2022-06-23 17:00:43+00:00   \n",
       "12         Completed               3.5116 2022-06-23 17:04:12+00:00   \n",
       "15         Completed               3.5155 2022-06-23 17:00:36+00:00   \n",
       "\n",
       "             TrainingEndTime  TrainingElapsedTimeSeconds  \n",
       "7  2022-06-23 17:32:05+00:00                      1152.0  \n",
       "2  2022-06-23 17:41:01+00:00                      1121.0  \n",
       "13 2022-06-23 17:19:45+00:00                      1142.0  \n",
       "12 2022-06-23 17:23:03+00:00                      1131.0  \n",
       "15 2022-06-23 17:19:37+00:00                      1141.0  "
      ]
     },
     "execution_count": 19,
     "metadata": {},
     "output_type": "execute_result"
    }
   ],
   "source": [
    "import pandas as pd\n",
    "\n",
    "pd.set_option(\"display.max_rows\", None, \"display.max_columns\", None)\n",
    "\n",
    "# Gather results from the tuner\n",
    "results = convergence_tuner.analytics().dataframe()\n",
    "\n",
    "# Sort according to Training Loss\n",
    "results = results.sort_values([\"FinalObjectiveValue\"], ascending=[True])\n",
    "\n",
    "# Display the top 5 results\n",
    "results.head(5)"
   ]
  },
  {
   "cell_type": "markdown",
   "id": "ee9d8fe8",
   "metadata": {},
   "source": [
    "Having obtained the best configuration for your training job, you can now train to completion. Please consider [checkpointing](https://docs.aws.amazon.com/sagemaker/latest/dg/model-checkpoints.html) in order to resume training from the best performing job indicated by the tuner.\n",
    "\n",
    "## Conclusion\n",
    "\n",
    "In conclusion, we first arrived at the batch size and compiler configuration that leads to the highest training throughput. Then, we tuned the associated hyperparameters to arrive at the configuration that leads to the fastest convergence. The resultant combinations leads to maximum savings !\n"
   ]
  },
  {
   "cell_type": "markdown",
   "id": "bc219a22",
   "metadata": {},
   "source": [
    "## Clean up\n",
    "\n",
    "Stop all tuning jobs launched if the jobs are still running."
   ]
  },
  {
   "cell_type": "code",
   "execution_count": 20,
   "id": "a6f55df5",
   "metadata": {},
   "outputs": [],
   "source": [
    "native_tuner.stop_tuning_job()\n",
    "optimized_tuner.stop_tuning_job()\n",
    "convergence_tuner.stop_tuning_job()"
   ]
  },
  {
   "cell_type": "markdown",
   "id": "685e6c99",
   "metadata": {},
   "source": [
    "Also, to find instructions on cleaning up resources, see [Clean Up](https://docs.aws.amazon.com/sagemaker/latest/dg/ex1-cleanup.html) in the *Amazon SageMaker Developer Guide*."
   ]
  }
 ],
 "metadata": {
  "kernelspec": {
   "display_name": "conda_tensorflow2_p38",
   "language": "python",
   "name": "conda_tensorflow2_p38"
  },
  "language_info": {
   "codemirror_mode": {
    "name": "ipython",
    "version": 3
   },
   "file_extension": ".py",
   "mimetype": "text/x-python",
   "name": "python",
   "nbconvert_exporter": "python",
   "pygments_lexer": "ipython3",
   "version": "3.8.12"
  }
 },
 "nbformat": 4,
 "nbformat_minor": 5
}
